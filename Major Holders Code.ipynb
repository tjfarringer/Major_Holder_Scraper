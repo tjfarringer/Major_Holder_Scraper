{
 "cells": [
  {
   "cell_type": "code",
   "execution_count": 14,
   "metadata": {
    "collapsed": true
   },
   "outputs": [],
   "source": [
    "\n",
    "###### libs\n",
    "\n",
    "#### Import the packages\n",
    "from urllib.request import urlopen\n",
    "from bs4 import BeautifulSoup\n",
    "import pandas as pd\n",
    "import numpy as np\n",
    "import matplotlib.pyplot as plt\n",
    "import seaborn as sns\n",
    "from IPython.display import HTML\n",
    "from selenium import webdriver\n",
    "import time\n",
    "\n",
    "sns.set_style('whitegrid')\n",
    "%matplotlib inline\n",
    "\n",
    "\n",
    "#### tell python where phantomjs is\n",
    "phantomjs_driver = 'C:/Users/Talmadge/Downloads/phantomjs-2.1.1-windows/phantomjs-2.1.1-windows/bin/phantomjs.exe'\n",
    "driver = webdriver.PhantomJS(executable_path=phantomjs_driver)"
   ]
  },
  {
   "cell_type": "code",
   "execution_count": 15,
   "metadata": {
    "collapsed": false,
    "scrolled": true
   },
   "outputs": [],
   "source": [
    "### get a list of the russel 2,000 to check against\n",
    "url = 'http://www.barchart.com/stocks/russell2000.php?_dtp1=0'\n",
    "\n",
    "### scraping the webpage\n",
    "driver.get(url)\n",
    "list_of_stocks_soup = BeautifulSoup(driver.page_source, \"lxml\")\n",
    "list_of_stocks = list_of_stocks_soup.find(attrs={\"name\" : \"symbols\", \"type\" : \"hidden\"})['value']\n",
    "list_of_stocks_parsed = [x.strip() for x in list_of_stocks.split(',')]\n",
    "\n",
    "\n",
    "stock_list = []\n",
    "\n",
    "### store the stock tickers in a list \n",
    "for x in range(200, 500):\n",
    "    if x != None and x != \"\":\n",
    "        stock_list.append(list_of_stocks_parsed[x])\n",
    "    else: \n",
    "        pass \n",
    "    \n",
    "#for x in range(0, 10):\n",
    "#    print(stock_list[x])\n"
   ]
  },
  {
   "cell_type": "code",
   "execution_count": 21,
   "metadata": {
    "collapsed": false,
    "scrolled": true
   },
   "outputs": [],
   "source": [
    "\n",
    "stocks_with_royce = []\n",
    "\n",
    "for x in stock_list:\n",
    "    ### edit the url based on the stock ticker\n",
    "    url = 'http://finance.yahoo.com/quote/' + x + '/holders'\n",
    "    \n",
    "    ### go get the data\n",
    "    try: \n",
    "        driver.get(url)\n",
    "        time.sleep(1)\n",
    "        soup = BeautifulSoup(driver.page_source, \"lxml\")\n",
    "        \n",
    "        if soup.find(text = \"Royce & Associates LP\") == None:\n",
    "            pass \n",
    "        else:\n",
    "            stocks_with_royce.append(x)      \n",
    "    except IOError:\n",
    "        pass\n",
    "    else:\n",
    "        pass\n",
    "           \n",
    "    \n",
    "    \n",
    "    ##testing = soup.find_all('td')\n",
    "\n"
   ]
  },
  {
   "cell_type": "code",
   "execution_count": 19,
   "metadata": {
    "collapsed": false
   },
   "outputs": [
    {
     "data": {
      "text/plain": [
       "['BCOR',\n",
       " 'BCPC',\n",
       " 'BCRH',\n",
       " 'BGC',\n",
       " 'BHBK',\n",
       " 'BKE',\n",
       " 'BOOM',\n",
       " 'BOOT',\n",
       " 'BRKS',\n",
       " 'BSET',\n",
       " 'BZH',\n",
       " 'CAC',\n",
       " 'CALM',\n",
       " 'CATO',\n",
       " 'CCF',\n",
       " 'CCNE',\n",
       " 'CENT',\n",
       " 'CENX',\n",
       " 'CHMG',\n",
       " 'CIR',\n",
       " 'CIX',\n",
       " 'CKH',\n",
       " 'CLFD',\n",
       " 'CMTL',\n",
       " 'CNTY',\n",
       " 'COHU',\n",
       " 'COLM',\n",
       " 'CPLA',\n",
       " 'CRMT',\n",
       " 'CRY',\n",
       " 'CSS',\n",
       " 'CVLY',\n",
       " 'DBD',\n",
       " 'DECK']"
      ]
     },
     "execution_count": 19,
     "metadata": {},
     "output_type": "execute_result"
    }
   ],
   "source": [
    "stocks_with_royce"
   ]
  },
  {
   "cell_type": "code",
   "execution_count": null,
   "metadata": {
    "collapsed": false
   },
   "outputs": [],
   "source": []
  },
  {
   "cell_type": "code",
   "execution_count": null,
   "metadata": {
    "collapsed": false,
    "scrolled": false
   },
   "outputs": [],
   "source": []
  },
  {
   "cell_type": "code",
   "execution_count": null,
   "metadata": {
    "collapsed": true
   },
   "outputs": [],
   "source": []
  },
  {
   "cell_type": "code",
   "execution_count": null,
   "metadata": {
    "collapsed": false,
    "scrolled": true
   },
   "outputs": [],
   "source": []
  },
  {
   "cell_type": "code",
   "execution_count": null,
   "metadata": {
    "collapsed": false
   },
   "outputs": [],
   "source": []
  },
  {
   "cell_type": "code",
   "execution_count": null,
   "metadata": {
    "collapsed": false
   },
   "outputs": [],
   "source": []
  },
  {
   "cell_type": "code",
   "execution_count": null,
   "metadata": {
    "collapsed": false
   },
   "outputs": [],
   "source": []
  },
  {
   "cell_type": "code",
   "execution_count": null,
   "metadata": {
    "collapsed": false
   },
   "outputs": [],
   "source": []
  },
  {
   "cell_type": "code",
   "execution_count": null,
   "metadata": {
    "collapsed": false
   },
   "outputs": [],
   "source": []
  },
  {
   "cell_type": "code",
   "execution_count": null,
   "metadata": {
    "collapsed": true
   },
   "outputs": [],
   "source": []
  }
 ],
 "metadata": {
  "kernelspec": {
   "display_name": "Python 3",
   "language": "python",
   "name": "python3"
  },
  "language_info": {
   "codemirror_mode": {
    "name": "ipython",
    "version": 3
   },
   "file_extension": ".py",
   "mimetype": "text/x-python",
   "name": "python",
   "nbconvert_exporter": "python",
   "pygments_lexer": "ipython3",
   "version": "3.5.1"
  }
 },
 "nbformat": 4,
 "nbformat_minor": 0
}
